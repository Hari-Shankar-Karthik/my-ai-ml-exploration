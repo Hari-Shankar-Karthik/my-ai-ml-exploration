{
 "cells": [
  {
   "cell_type": "code",
   "execution_count": 1,
   "id": "e2ffe041-b131-4a41-acac-7219fc56ba71",
   "metadata": {},
   "outputs": [],
   "source": [
    "import joblib"
   ]
  },
  {
   "cell_type": "code",
   "execution_count": 2,
   "id": "1b60025f-2fd4-427a-8f74-b8551e0b0425",
   "metadata": {},
   "outputs": [],
   "source": [
    "clf = joblib.load('final-model.pkl')"
   ]
  },
  {
   "cell_type": "code",
   "execution_count": 3,
   "id": "b43ae3c3-dc87-4b94-a641-f645c6be92eb",
   "metadata": {},
   "outputs": [
    {
     "data": {
      "text/plain": [
       "['sepal length (cm)',\n",
       " 'sepal width (cm)',\n",
       " 'petal length (cm)',\n",
       " 'petal width (cm)']"
      ]
     },
     "execution_count": 3,
     "metadata": {},
     "output_type": "execute_result"
    }
   ],
   "source": [
    "joblib.load('feature-names.pkl')"
   ]
  },
  {
   "cell_type": "code",
   "execution_count": 4,
   "id": "87c11df5-7a87-47b6-9c87-2192bfed4e86",
   "metadata": {},
   "outputs": [
    {
     "data": {
      "text/plain": [
       "array(['versicolor'], dtype='<U10')"
      ]
     },
     "execution_count": 4,
     "metadata": {},
     "output_type": "execute_result"
    }
   ],
   "source": [
    "clf.predict([[5.843333, 3.057333, 3.758000, 1.199333]])"
   ]
  }
 ],
 "metadata": {
  "kernelspec": {
   "display_name": "Python 3 (ipykernel)",
   "language": "python",
   "name": "python3"
  },
  "language_info": {
   "codemirror_mode": {
    "name": "ipython",
    "version": 3
   },
   "file_extension": ".py",
   "mimetype": "text/x-python",
   "name": "python",
   "nbconvert_exporter": "python",
   "pygments_lexer": "ipython3",
   "version": "3.12.4"
  }
 },
 "nbformat": 4,
 "nbformat_minor": 5
}
