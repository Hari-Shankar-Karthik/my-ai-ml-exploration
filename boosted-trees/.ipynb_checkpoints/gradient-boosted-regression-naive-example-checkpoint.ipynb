{
 "cells": [
  {
   "cell_type": "code",
   "execution_count": 18,
   "id": "3e236d54",
   "metadata": {},
   "outputs": [],
   "source": [
    "# Naive approach to gradient-boosted regression"
   ]
  },
  {
   "cell_type": "code",
   "execution_count": 19,
   "id": "1eaa1590",
   "metadata": {},
   "outputs": [],
   "source": [
    "import numpy as np\n",
    "import pandas as pd\n",
    "import matplotlib.pyplot as plt\n",
    "import seaborn as sns"
   ]
  },
  {
   "cell_type": "code",
   "execution_count": 20,
   "id": "cedbb06c",
   "metadata": {},
   "outputs": [],
   "source": [
    "from sklearn.datasets import load_diabetes"
   ]
  },
  {
   "cell_type": "code",
   "execution_count": 21,
   "id": "6b47f2d1",
   "metadata": {},
   "outputs": [],
   "source": [
    "X, y = load_diabetes(return_X_y=True, as_frame=True)"
   ]
  },
  {
   "cell_type": "code",
   "execution_count": 22,
   "id": "f7ba292e",
   "metadata": {},
   "outputs": [],
   "source": [
    "from sklearn.model_selection import train_test_split"
   ]
  },
  {
   "cell_type": "code",
   "execution_count": 23,
   "id": "4466b928",
   "metadata": {},
   "outputs": [],
   "source": [
    "X_train, X_test, y_train, y_test = train_test_split(X, y, test_size=.3, random_state=42)"
   ]
  },
  {
   "cell_type": "code",
   "execution_count": 24,
   "id": "9e2e6024",
   "metadata": {},
   "outputs": [],
   "source": [
    "learning_rate = .1\n",
    "model_count = 100"
   ]
  },
  {
   "cell_type": "code",
   "execution_count": 25,
   "id": "0c7ae652",
   "metadata": {},
   "outputs": [],
   "source": [
    "f0_model = y_train.mean()"
   ]
  },
  {
   "cell_type": "code",
   "execution_count": 26,
   "id": "1210b0ab",
   "metadata": {},
   "outputs": [],
   "source": [
    "residuals = y_train - f0_model"
   ]
  },
  {
   "cell_type": "code",
   "execution_count": 27,
   "id": "9da74473",
   "metadata": {},
   "outputs": [],
   "source": [
    "from sklearn.tree import DecisionTreeRegressor"
   ]
  },
  {
   "cell_type": "code",
   "execution_count": 28,
   "id": "106003d9",
   "metadata": {},
   "outputs": [],
   "source": [
    "weak_learners = []\n",
    "for _ in range(model_count):\n",
    "    weak_learner = DecisionTreeRegressor(max_leaf_nodes=8).fit(X_train, residuals)\n",
    "    weak_learners.append(weak_learner)\n",
    "    residuals -= learning_rate * weak_learner.predict(X_train)"
   ]
  },
  {
   "cell_type": "code",
   "execution_count": 29,
   "id": "ef4e1f2e",
   "metadata": {},
   "outputs": [],
   "source": [
    "y_pred = f0_model\n",
    "for weak_learner in weak_learners:\n",
    "    y_pred += learning_rate * weak_learner.predict(X_test)"
   ]
  },
  {
   "cell_type": "code",
   "execution_count": 31,
   "id": "a71deda6",
   "metadata": {},
   "outputs": [],
   "source": [
    "from sklearn.metrics import root_mean_squared_error"
   ]
  },
  {
   "cell_type": "code",
   "execution_count": null,
   "id": "858b0073",
   "metadata": {},
   "outputs": [],
   "source": []
  }
 ],
 "metadata": {
  "kernelspec": {
   "display_name": "Python 3 (ipykernel)",
   "language": "python",
   "name": "python3"
  },
  "language_info": {
   "codemirror_mode": {
    "name": "ipython",
    "version": 3
   },
   "file_extension": ".py",
   "mimetype": "text/x-python",
   "name": "python",
   "nbconvert_exporter": "python",
   "pygments_lexer": "ipython3",
   "version": "3.11.5"
  }
 },
 "nbformat": 4,
 "nbformat_minor": 5
}
