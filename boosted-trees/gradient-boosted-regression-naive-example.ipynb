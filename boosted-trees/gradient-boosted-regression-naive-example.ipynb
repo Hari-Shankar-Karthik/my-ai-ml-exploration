{
 "cells": [
  {
   "cell_type": "code",
   "execution_count": 1,
   "id": "bbd096a1",
   "metadata": {},
   "outputs": [],
   "source": [
    "# Naive approach to gradient-boosted regression"
   ]
  },
  {
   "cell_type": "code",
   "execution_count": 2,
   "id": "63e10df2",
   "metadata": {},
   "outputs": [],
   "source": [
    "import numpy as np\n",
    "import pandas as pd\n",
    "import matplotlib.pyplot as plt\n",
    "import seaborn as sns"
   ]
  },
  {
   "cell_type": "code",
   "execution_count": 3,
   "id": "6629d728",
   "metadata": {},
   "outputs": [],
   "source": [
    "from sklearn.datasets import load_diabetes"
   ]
  },
  {
   "cell_type": "code",
   "execution_count": 4,
   "id": "16cbb605",
   "metadata": {},
   "outputs": [],
   "source": [
    "X, y = load_diabetes(return_X_y=True, as_frame=True)"
   ]
  },
  {
   "cell_type": "code",
   "execution_count": 5,
   "id": "f2afb1aa",
   "metadata": {},
   "outputs": [],
   "source": [
    "from sklearn.model_selection import train_test_split"
   ]
  },
  {
   "cell_type": "code",
   "execution_count": 6,
   "id": "4b05e33d",
   "metadata": {},
   "outputs": [],
   "source": [
    "X_train, X_test, y_train, y_test = train_test_split(X, y, test_size=.3, random_state=42)"
   ]
  },
  {
   "cell_type": "code",
   "execution_count": 7,
   "id": "bf66d33f",
   "metadata": {},
   "outputs": [],
   "source": [
    "learning_rate = .1\n",
    "model_count = 100"
   ]
  },
  {
   "cell_type": "code",
   "execution_count": 8,
   "id": "5aad69a6",
   "metadata": {},
   "outputs": [],
   "source": [
    "f0_model = y_train.mean()"
   ]
  },
  {
   "cell_type": "code",
   "execution_count": 9,
   "id": "770e6684",
   "metadata": {},
   "outputs": [],
   "source": [
    "residuals = y_train - f0_model"
   ]
  },
  {
   "cell_type": "code",
   "execution_count": 10,
   "id": "7e8c753d",
   "metadata": {},
   "outputs": [],
   "source": [
    "from sklearn.tree import DecisionTreeRegressor"
   ]
  },
  {
   "cell_type": "code",
   "execution_count": 11,
   "id": "d3e9135e",
   "metadata": {},
   "outputs": [],
   "source": [
    "weak_learners = []\n",
    "for _ in range(model_count):\n",
    "    weak_learner = DecisionTreeRegressor(max_leaf_nodes=8).fit(X_train, residuals)\n",
    "    weak_learners.append(weak_learner)\n",
    "    residuals -= learning_rate * weak_learner.predict(X_train)"
   ]
  },
  {
   "cell_type": "code",
   "execution_count": 12,
   "id": "9017a3e5",
   "metadata": {},
   "outputs": [],
   "source": [
    "y_pred = f0_model\n",
    "for weak_learner in weak_learners:\n",
    "    y_pred += learning_rate * weak_learner.predict(X_test)"
   ]
  },
  {
   "cell_type": "code",
   "execution_count": 13,
   "id": "0bb7122a",
   "metadata": {},
   "outputs": [],
   "source": [
    "from sklearn.metrics import root_mean_squared_error"
   ]
  },
  {
   "cell_type": "code",
   "execution_count": 14,
   "id": "042e7815",
   "metadata": {},
   "outputs": [
    {
     "data": {
      "text/plain": [
       "56.29510182800877"
      ]
     },
     "execution_count": 14,
     "metadata": {},
     "output_type": "execute_result"
    }
   ],
   "source": [
    "root_mean_squared_error(y_test, y_pred)"
   ]
  },
  {
   "cell_type": "code",
   "execution_count": 15,
   "id": "ebfe6f16",
   "metadata": {},
   "outputs": [
    {
     "data": {
      "text/plain": [
       "148.02255639097746"
      ]
     },
     "execution_count": 15,
     "metadata": {},
     "output_type": "execute_result"
    }
   ],
   "source": [
    "y_test.mean()"
   ]
  }
 ],
 "metadata": {
  "kernelspec": {
   "display_name": "Python 3 (ipykernel)",
   "language": "python",
   "name": "python3"
  },
  "language_info": {
   "codemirror_mode": {
    "name": "ipython",
    "version": 3
   },
   "file_extension": ".py",
   "mimetype": "text/x-python",
   "name": "python",
   "nbconvert_exporter": "python",
   "pygments_lexer": "ipython3",
   "version": "3.11.5"
  }
 },
 "nbformat": 4,
 "nbformat_minor": 5
}
